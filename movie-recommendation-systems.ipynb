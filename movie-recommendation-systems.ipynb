{
 "cells": [
  {
   "cell_type": "code",
   "execution_count": 1,
   "id": "ca1f0940",
   "metadata": {
    "_cell_guid": "b1076dfc-b9ad-4769-8c92-a6c4dae69d19",
    "_uuid": "8f2839f25d086af736a60e9eeb907d3b93b6e0e5",
    "execution": {
     "iopub.execute_input": "2024-05-12T13:13:48.692765Z",
     "iopub.status.busy": "2024-05-12T13:13:48.692388Z",
     "iopub.status.idle": "2024-05-12T13:13:49.565165Z",
     "shell.execute_reply": "2024-05-12T13:13:49.564029Z"
    },
    "papermill": {
     "duration": 0.882905,
     "end_time": "2024-05-12T13:13:49.567848",
     "exception": false,
     "start_time": "2024-05-12T13:13:48.684943",
     "status": "completed"
    },
    "tags": []
   },
   "outputs": [
    {
     "name": "stdout",
     "output_type": "stream",
     "text": [
      "/kaggle/input/movies/movies.csv\n",
      "/kaggle/input/ratings/ratings.csv\n"
     ]
    }
   ],
   "source": [
    "# This Python 3 environment comes with many helpful analytics libraries installed\n",
    "# It is defined by the kaggle/python Docker image: https://github.com/kaggle/docker-python\n",
    "# For example, here's several helpful packages to load\n",
    "\n",
    "import numpy as np # linear algebra\n",
    "import pandas as pd # data processing, CSV file I/O (e.g. pd.read_csv)\n",
    "\n",
    "# Input data files are available in the read-only \"../input/\" directory\n",
    "# For example, running this (by clicking run or pressing Shift+Enter) will list all files under the input directory\n",
    "\n",
    "import os\n",
    "for dirname, _, filenames in os.walk('/kaggle/input'):\n",
    "    for filename in filenames:\n",
    "        print(os.path.join(dirname, filename))\n",
    "\n",
    "# You can write up to 20GB to the current directory (/kaggle/working/) that gets preserved as output when you create a version using \"Save & Run All\" \n",
    "# You can also write temporary files to /kaggle/temp/, but they won't be saved outside of the current session"
   ]
  },
  {
   "cell_type": "markdown",
   "id": "905d9f54",
   "metadata": {
    "papermill": {
     "duration": 0.005033,
     "end_time": "2024-05-12T13:13:49.579338",
     "exception": false,
     "start_time": "2024-05-12T13:13:49.574305",
     "status": "completed"
    },
    "tags": []
   },
   "source": [
    "## Importing Libraries"
   ]
  },
  {
   "cell_type": "code",
   "execution_count": 2,
   "id": "22a4bd06",
   "metadata": {
    "execution": {
     "iopub.execute_input": "2024-05-12T13:13:49.592255Z",
     "iopub.status.busy": "2024-05-12T13:13:49.591441Z",
     "iopub.status.idle": "2024-05-12T13:13:51.214009Z",
     "shell.execute_reply": "2024-05-12T13:13:51.212871Z"
    },
    "papermill": {
     "duration": 1.631598,
     "end_time": "2024-05-12T13:13:51.216358",
     "exception": false,
     "start_time": "2024-05-12T13:13:49.584760",
     "status": "completed"
    },
    "tags": []
   },
   "outputs": [],
   "source": [
    "import numpy as np\n",
    "import pandas as pd\n",
    "import seaborn as sns\n",
    "import sklearn\n",
    "import matplotlib.pyplot as plot\n",
    "from sklearn.model_selection import train_test_split\n",
    "from sklearn.feature_extraction.text import TfidfVectorizer\n",
    "from sklearn.metrics.pairwise import cosine_similarity"
   ]
  },
  {
   "cell_type": "markdown",
   "id": "b3a6d8e4",
   "metadata": {
    "papermill": {
     "duration": 0.00486,
     "end_time": "2024-05-12T13:13:51.226562",
     "exception": false,
     "start_time": "2024-05-12T13:13:51.221702",
     "status": "completed"
    },
    "tags": []
   },
   "source": [
    "## movies.csv Dataset"
   ]
  },
  {
   "cell_type": "code",
   "execution_count": 3,
   "id": "26368b69",
   "metadata": {
    "execution": {
     "iopub.execute_input": "2024-05-12T13:13:51.238975Z",
     "iopub.status.busy": "2024-05-12T13:13:51.238554Z",
     "iopub.status.idle": "2024-05-12T13:13:51.395051Z",
     "shell.execute_reply": "2024-05-12T13:13:51.394184Z"
    },
    "papermill": {
     "duration": 0.165518,
     "end_time": "2024-05-12T13:13:51.397178",
     "exception": false,
     "start_time": "2024-05-12T13:13:51.231660",
     "status": "completed"
    },
    "tags": []
   },
   "outputs": [
    {
     "data": {
      "text/html": [
       "<div>\n",
       "<style scoped>\n",
       "    .dataframe tbody tr th:only-of-type {\n",
       "        vertical-align: middle;\n",
       "    }\n",
       "\n",
       "    .dataframe tbody tr th {\n",
       "        vertical-align: top;\n",
       "    }\n",
       "\n",
       "    .dataframe thead th {\n",
       "        text-align: right;\n",
       "    }\n",
       "</style>\n",
       "<table border=\"1\" class=\"dataframe\">\n",
       "  <thead>\n",
       "    <tr style=\"text-align: right;\">\n",
       "      <th></th>\n",
       "      <th>movieId</th>\n",
       "      <th>title</th>\n",
       "      <th>genres</th>\n",
       "    </tr>\n",
       "  </thead>\n",
       "  <tbody>\n",
       "    <tr>\n",
       "      <th>0</th>\n",
       "      <td>1</td>\n",
       "      <td>Toy Story (1995)</td>\n",
       "      <td>Adventure|Animation|Children|Comedy|Fantasy</td>\n",
       "    </tr>\n",
       "    <tr>\n",
       "      <th>1</th>\n",
       "      <td>2</td>\n",
       "      <td>Jumanji (1995)</td>\n",
       "      <td>Adventure|Children|Fantasy</td>\n",
       "    </tr>\n",
       "    <tr>\n",
       "      <th>2</th>\n",
       "      <td>3</td>\n",
       "      <td>Grumpier Old Men (1995)</td>\n",
       "      <td>Comedy|Romance</td>\n",
       "    </tr>\n",
       "    <tr>\n",
       "      <th>3</th>\n",
       "      <td>4</td>\n",
       "      <td>Waiting to Exhale (1995)</td>\n",
       "      <td>Comedy|Drama|Romance</td>\n",
       "    </tr>\n",
       "    <tr>\n",
       "      <th>4</th>\n",
       "      <td>5</td>\n",
       "      <td>Father of the Bride Part II (1995)</td>\n",
       "      <td>Comedy</td>\n",
       "    </tr>\n",
       "  </tbody>\n",
       "</table>\n",
       "</div>"
      ],
      "text/plain": [
       "   movieId                               title  \\\n",
       "0        1                    Toy Story (1995)   \n",
       "1        2                      Jumanji (1995)   \n",
       "2        3             Grumpier Old Men (1995)   \n",
       "3        4            Waiting to Exhale (1995)   \n",
       "4        5  Father of the Bride Part II (1995)   \n",
       "\n",
       "                                        genres  \n",
       "0  Adventure|Animation|Children|Comedy|Fantasy  \n",
       "1                   Adventure|Children|Fantasy  \n",
       "2                               Comedy|Romance  \n",
       "3                         Comedy|Drama|Romance  \n",
       "4                                       Comedy  "
      ]
     },
     "execution_count": 3,
     "metadata": {},
     "output_type": "execute_result"
    }
   ],
   "source": [
    "df = pd.read_csv(\"/kaggle/input/movies/movies.csv\")\n",
    "df.head()"
   ]
  },
  {
   "cell_type": "code",
   "execution_count": 4,
   "id": "a248a80f",
   "metadata": {
    "execution": {
     "iopub.execute_input": "2024-05-12T13:13:51.410591Z",
     "iopub.status.busy": "2024-05-12T13:13:51.409562Z",
     "iopub.status.idle": "2024-05-12T13:13:51.441996Z",
     "shell.execute_reply": "2024-05-12T13:13:51.440613Z"
    },
    "papermill": {
     "duration": 0.0418,
     "end_time": "2024-05-12T13:13:51.444775",
     "exception": false,
     "start_time": "2024-05-12T13:13:51.402975",
     "status": "completed"
    },
    "tags": []
   },
   "outputs": [
    {
     "name": "stdout",
     "output_type": "stream",
     "text": [
      "<class 'pandas.core.frame.DataFrame'>\n",
      "RangeIndex: 62423 entries, 0 to 62422\n",
      "Data columns (total 3 columns):\n",
      " #   Column   Non-Null Count  Dtype \n",
      "---  ------   --------------  ----- \n",
      " 0   movieId  62423 non-null  int64 \n",
      " 1   title    62423 non-null  object\n",
      " 2   genres   62423 non-null  object\n",
      "dtypes: int64(1), object(2)\n",
      "memory usage: 1.4+ MB\n"
     ]
    }
   ],
   "source": [
    "df.info()        # for datatype of the columns in the dataset"
   ]
  },
  {
   "cell_type": "code",
   "execution_count": 5,
   "id": "1760b1ed",
   "metadata": {
    "execution": {
     "iopub.execute_input": "2024-05-12T13:13:51.458627Z",
     "iopub.status.busy": "2024-05-12T13:13:51.458024Z",
     "iopub.status.idle": "2024-05-12T13:13:51.473324Z",
     "shell.execute_reply": "2024-05-12T13:13:51.472229Z"
    },
    "papermill": {
     "duration": 0.025063,
     "end_time": "2024-05-12T13:13:51.475626",
     "exception": false,
     "start_time": "2024-05-12T13:13:51.450563",
     "status": "completed"
    },
    "tags": []
   },
   "outputs": [
    {
     "data": {
      "text/plain": [
       "movieId    0\n",
       "title      0\n",
       "genres     0\n",
       "dtype: int64"
      ]
     },
     "execution_count": 5,
     "metadata": {},
     "output_type": "execute_result"
    }
   ],
   "source": [
    "df.isnull().sum()     #Finding number of null values in the dataset "
   ]
  },
  {
   "cell_type": "markdown",
   "id": "eced8ee2",
   "metadata": {
    "papermill": {
     "duration": 0.005464,
     "end_time": "2024-05-12T13:13:51.486760",
     "exception": false,
     "start_time": "2024-05-12T13:13:51.481296",
     "status": "completed"
    },
    "tags": []
   },
   "source": [
    "## Data Preprocessing"
   ]
  },
  {
   "cell_type": "code",
   "execution_count": 6,
   "id": "4846b7f9",
   "metadata": {
    "execution": {
     "iopub.execute_input": "2024-05-12T13:13:51.499573Z",
     "iopub.status.busy": "2024-05-12T13:13:51.499151Z",
     "iopub.status.idle": "2024-05-12T13:13:51.525686Z",
     "shell.execute_reply": "2024-05-12T13:13:51.524734Z"
    },
    "papermill": {
     "duration": 0.035725,
     "end_time": "2024-05-12T13:13:51.528191",
     "exception": false,
     "start_time": "2024-05-12T13:13:51.492466",
     "status": "completed"
    },
    "tags": []
   },
   "outputs": [],
   "source": [
    "# Find titles with \"(no genres listed)\"\n",
    "no_genres_titles = df[df['genres'] == '(no genres listed)']['title']\n",
    "\n",
    "# Remove rows with \"(no genres listed)\"\n",
    "movies_df = df[~df['title'].isin(no_genres_titles)]"
   ]
  },
  {
   "cell_type": "code",
   "execution_count": 7,
   "id": "70064b89",
   "metadata": {
    "execution": {
     "iopub.execute_input": "2024-05-12T13:13:51.542086Z",
     "iopub.status.busy": "2024-05-12T13:13:51.541718Z",
     "iopub.status.idle": "2024-05-12T13:13:51.557637Z",
     "shell.execute_reply": "2024-05-12T13:13:51.556586Z"
    },
    "papermill": {
     "duration": 0.025245,
     "end_time": "2024-05-12T13:13:51.560180",
     "exception": false,
     "start_time": "2024-05-12T13:13:51.534935",
     "status": "completed"
    },
    "tags": []
   },
   "outputs": [],
   "source": [
    "train_data, test_data = train_test_split(movies_df, test_size=0.2, random_state=44)"
   ]
  },
  {
   "cell_type": "code",
   "execution_count": 8,
   "id": "42bc40e7",
   "metadata": {
    "execution": {
     "iopub.execute_input": "2024-05-12T13:13:51.573268Z",
     "iopub.status.busy": "2024-05-12T13:13:51.572889Z",
     "iopub.status.idle": "2024-05-12T13:13:51.580285Z",
     "shell.execute_reply": "2024-05-12T13:13:51.579573Z"
    },
    "papermill": {
     "duration": 0.016675,
     "end_time": "2024-05-12T13:13:51.582563",
     "exception": false,
     "start_time": "2024-05-12T13:13:51.565888",
     "status": "completed"
    },
    "tags": []
   },
   "outputs": [
    {
     "name": "stdout",
     "output_type": "stream",
     "text": [
      "       movieId                                           title  \\\n",
      "8394     25846                         Dawn Patrol, The (1938)   \n",
      "43262   165633                             A Long Story (2012)   \n",
      "3688      3789                          Pawnbroker, The (1964)   \n",
      "50248   180589  Leaning Into the Wind: Andy Goldsworthy (2017)   \n",
      "27329   128876                      Saban, Son of Saban (1977)   \n",
      "...        ...                                             ...   \n",
      "57712   196987                        Far from the Tree (2017)   \n",
      "53934   188445                      My Little Sweet Pea (2013)   \n",
      "25949   124865                    Loitering with Intent (2014)   \n",
      "3491      3590                   Lords of Flatbush, The (1974)   \n",
      "14101    72995                             Offence, The (1972)   \n",
      "\n",
      "                     genres  \n",
      "8394              Drama|War  \n",
      "43262                 Drama  \n",
      "3688                  Drama  \n",
      "50248           Documentary  \n",
      "27329  Comedy|Crime|Mystery  \n",
      "...                     ...  \n",
      "57712           Documentary  \n",
      "53934          Comedy|Drama  \n",
      "25949          Comedy|Drama  \n",
      "3491           Comedy|Drama  \n",
      "14101   Crime|Drama|Mystery  \n",
      "\n",
      "[45876 rows x 3 columns]\n"
     ]
    }
   ],
   "source": [
    "print(train_data)"
   ]
  },
  {
   "cell_type": "code",
   "execution_count": 9,
   "id": "35214ce8",
   "metadata": {
    "execution": {
     "iopub.execute_input": "2024-05-12T13:13:51.595407Z",
     "iopub.status.busy": "2024-05-12T13:13:51.595024Z",
     "iopub.status.idle": "2024-05-12T13:13:51.602093Z",
     "shell.execute_reply": "2024-05-12T13:13:51.601058Z"
    },
    "papermill": {
     "duration": 0.016671,
     "end_time": "2024-05-12T13:13:51.604782",
     "exception": false,
     "start_time": "2024-05-12T13:13:51.588111",
     "status": "completed"
    },
    "tags": []
   },
   "outputs": [
    {
     "name": "stdout",
     "output_type": "stream",
     "text": [
      "       movieId                          title                          genres\n",
      "4642      4748                3 Ninjas (1992)          Action|Children|Comedy\n",
      "56218   193683              Alien Code (2017)         Mystery|Sci-Fi|Thriller\n",
      "51098   182409              Ecce bombo (1978)                    Comedy|Drama\n",
      "45662   170849  In Memory of My Father (2005)                    Comedy|Drama\n",
      "3180      3273                Scream 3 (2000)  Comedy|Horror|Mystery|Thriller\n",
      "...        ...                            ...                             ...\n",
      "5486      5596         Spaced Invaders (1990)         Adventure|Comedy|Sci-Fi\n",
      "3920      4024     House of Mirth, The (2000)                         Romance\n",
      "1491      1546             Schizopolis (1996)                          Comedy\n",
      "13413    69304            Imagine That (2009)            Comedy|Drama|Fantasy\n",
      "5716      5828               Blackrock (1997)                  Drama|Thriller\n",
      "\n",
      "[11470 rows x 3 columns]\n"
     ]
    }
   ],
   "source": [
    "print(test_data)"
   ]
  },
  {
   "cell_type": "markdown",
   "id": "e4eb0aea",
   "metadata": {
    "papermill": {
     "duration": 0.005423,
     "end_time": "2024-05-12T13:13:51.615858",
     "exception": false,
     "start_time": "2024-05-12T13:13:51.610435",
     "status": "completed"
    },
    "tags": []
   },
   "source": [
    "## "
   ]
  },
  {
   "cell_type": "markdown",
   "id": "f0c4b08d",
   "metadata": {
    "papermill": {
     "duration": 0.005335,
     "end_time": "2024-05-12T13:13:51.626966",
     "exception": false,
     "start_time": "2024-05-12T13:13:51.621631",
     "status": "completed"
    },
    "tags": []
   },
   "source": [
    "## Fit and Transform TfIdfVectorizer"
   ]
  },
  {
   "cell_type": "code",
   "execution_count": 10,
   "id": "658264f4",
   "metadata": {
    "execution": {
     "iopub.execute_input": "2024-05-12T13:13:51.641007Z",
     "iopub.status.busy": "2024-05-12T13:13:51.640322Z",
     "iopub.status.idle": "2024-05-12T13:13:51.955624Z",
     "shell.execute_reply": "2024-05-12T13:13:51.954613Z"
    },
    "papermill": {
     "duration": 0.324848,
     "end_time": "2024-05-12T13:13:51.957950",
     "exception": false,
     "start_time": "2024-05-12T13:13:51.633102",
     "status": "completed"
    },
    "tags": []
   },
   "outputs": [
    {
     "data": {
      "text/plain": [
       "(45876, 21)"
      ]
     },
     "execution_count": 10,
     "metadata": {},
     "output_type": "execute_result"
    }
   ],
   "source": [
    "tfidf_vectorizer = TfidfVectorizer(stop_words='english')\n",
    "\n",
    "tfidf_train_matrix = tfidf_vectorizer.fit_transform(train_data['genres'].fillna(''))\n",
    "tfidf_test_matrix = tfidf_vectorizer.transform(test_data['genres'].fillna(''))\n",
    "tfidf_train_matrix.shape"
   ]
  },
  {
   "cell_type": "code",
   "execution_count": 11,
   "id": "138b3c63",
   "metadata": {
    "execution": {
     "iopub.execute_input": "2024-05-12T13:13:51.971508Z",
     "iopub.status.busy": "2024-05-12T13:13:51.971146Z",
     "iopub.status.idle": "2024-05-12T13:14:36.594773Z",
     "shell.execute_reply": "2024-05-12T13:14:36.593367Z"
    },
    "papermill": {
     "duration": 44.63382,
     "end_time": "2024-05-12T13:14:36.597733",
     "exception": false,
     "start_time": "2024-05-12T13:13:51.963913",
     "status": "completed"
    },
    "tags": []
   },
   "outputs": [],
   "source": [
    "from sklearn.metrics.pairwise import linear_kernel\n",
    "\n",
    "cosine_sim = linear_kernel(tfidf_train_matrix, tfidf_train_matrix)"
   ]
  },
  {
   "cell_type": "code",
   "execution_count": 12,
   "id": "d13bdf23",
   "metadata": {
    "execution": {
     "iopub.execute_input": "2024-05-12T13:14:36.611733Z",
     "iopub.status.busy": "2024-05-12T13:14:36.611314Z",
     "iopub.status.idle": "2024-05-12T13:14:36.753734Z",
     "shell.execute_reply": "2024-05-12T13:14:36.752231Z"
    },
    "papermill": {
     "duration": 0.152137,
     "end_time": "2024-05-12T13:14:36.756217",
     "exception": false,
     "start_time": "2024-05-12T13:14:36.604080",
     "status": "completed"
    },
    "tags": []
   },
   "outputs": [
    {
     "name": "stdout",
     "output_type": "stream",
     "text": [
      "Recommended movies:\n",
      "City Hall (1996)\n",
      "Faces of Death 6 (1996)\n",
      "Risky Business (1983)\n",
      "Kaena: The Prophecy (Kaena: La prophétie) (2003)\n",
      "Twelve Monkeys (a.k.a. 12 Monkeys) (1995)\n",
      "Godfather, The (1972)\n",
      "Kids of the Round Table (1995)\n",
      "Man with the Golden Gun, The (1974)\n",
      "Castle Freak (1995)\n",
      "Mummy, The (1959)\n"
     ]
    }
   ],
   "source": [
    "user_movie_ids = [858, 55820, 68157, 112552, 122882]\n",
    "recommendations = []\n",
    "\n",
    "for movie_id in user_movie_ids:\n",
    "    idx = movies_df[movies_df['movieId'] == movie_id].index[0]\n",
    "    sim_scores = list(enumerate(cosine_sim[idx]))\n",
    "    sim_scores = sorted(sim_scores, key=lambda x: x[1], reverse=True)\n",
    "    sim_scores = sim_scores[1:11]  # Exclude the movie itself\n",
    "    movie_indices = [i[0] for i in sim_scores]\n",
    "    recommendations.extend(movies_df.iloc[movie_indices]['title'].tolist())\n",
    "\n",
    "# Remove duplicate recommendations\n",
    "recommendations = list(set(recommendations))\n",
    "\n",
    "# Print recommendations\n",
    "print(\"Recommended movies:\")\n",
    "for movie in recommendations[:10]:\n",
    "    print(movie)"
   ]
  },
  {
   "cell_type": "code",
   "execution_count": null,
   "id": "f76ffe88",
   "metadata": {
    "papermill": {
     "duration": 0.005669,
     "end_time": "2024-05-12T13:14:36.767891",
     "exception": false,
     "start_time": "2024-05-12T13:14:36.762222",
     "status": "completed"
    },
    "tags": []
   },
   "outputs": [],
   "source": []
  },
  {
   "cell_type": "markdown",
   "id": "7662fb87",
   "metadata": {
    "papermill": {
     "duration": 0.005628,
     "end_time": "2024-05-12T13:14:36.779396",
     "exception": false,
     "start_time": "2024-05-12T13:14:36.773768",
     "status": "completed"
    },
    "tags": []
   },
   "source": [
    "## ratings.csv Datset"
   ]
  },
  {
   "cell_type": "code",
   "execution_count": 13,
   "id": "45de87b3",
   "metadata": {
    "execution": {
     "iopub.execute_input": "2024-05-12T13:14:36.793190Z",
     "iopub.status.busy": "2024-05-12T13:14:36.792806Z",
     "iopub.status.idle": "2024-05-12T13:14:53.090191Z",
     "shell.execute_reply": "2024-05-12T13:14:53.088823Z"
    },
    "papermill": {
     "duration": 16.307214,
     "end_time": "2024-05-12T13:14:53.092652",
     "exception": false,
     "start_time": "2024-05-12T13:14:36.785438",
     "status": "completed"
    },
    "tags": []
   },
   "outputs": [
    {
     "data": {
      "text/html": [
       "<div>\n",
       "<style scoped>\n",
       "    .dataframe tbody tr th:only-of-type {\n",
       "        vertical-align: middle;\n",
       "    }\n",
       "\n",
       "    .dataframe tbody tr th {\n",
       "        vertical-align: top;\n",
       "    }\n",
       "\n",
       "    .dataframe thead th {\n",
       "        text-align: right;\n",
       "    }\n",
       "</style>\n",
       "<table border=\"1\" class=\"dataframe\">\n",
       "  <thead>\n",
       "    <tr style=\"text-align: right;\">\n",
       "      <th></th>\n",
       "      <th>userId</th>\n",
       "      <th>movieId</th>\n",
       "      <th>rating</th>\n",
       "      <th>timestamp</th>\n",
       "    </tr>\n",
       "  </thead>\n",
       "  <tbody>\n",
       "    <tr>\n",
       "      <th>0</th>\n",
       "      <td>1</td>\n",
       "      <td>296</td>\n",
       "      <td>5.0</td>\n",
       "      <td>1147880044</td>\n",
       "    </tr>\n",
       "    <tr>\n",
       "      <th>1</th>\n",
       "      <td>1</td>\n",
       "      <td>306</td>\n",
       "      <td>3.5</td>\n",
       "      <td>1147868817</td>\n",
       "    </tr>\n",
       "    <tr>\n",
       "      <th>2</th>\n",
       "      <td>1</td>\n",
       "      <td>307</td>\n",
       "      <td>5.0</td>\n",
       "      <td>1147868828</td>\n",
       "    </tr>\n",
       "    <tr>\n",
       "      <th>3</th>\n",
       "      <td>1</td>\n",
       "      <td>665</td>\n",
       "      <td>5.0</td>\n",
       "      <td>1147878820</td>\n",
       "    </tr>\n",
       "    <tr>\n",
       "      <th>4</th>\n",
       "      <td>1</td>\n",
       "      <td>899</td>\n",
       "      <td>3.5</td>\n",
       "      <td>1147868510</td>\n",
       "    </tr>\n",
       "  </tbody>\n",
       "</table>\n",
       "</div>"
      ],
      "text/plain": [
       "   userId  movieId  rating   timestamp\n",
       "0       1      296     5.0  1147880044\n",
       "1       1      306     3.5  1147868817\n",
       "2       1      307     5.0  1147868828\n",
       "3       1      665     5.0  1147878820\n",
       "4       1      899     3.5  1147868510"
      ]
     },
     "execution_count": 13,
     "metadata": {},
     "output_type": "execute_result"
    }
   ],
   "source": [
    "df2 = pd.read_csv(\"/kaggle/input/ratings/ratings.csv\")\n",
    "df2.head()"
   ]
  },
  {
   "cell_type": "code",
   "execution_count": 14,
   "id": "3b63cfd1",
   "metadata": {
    "execution": {
     "iopub.execute_input": "2024-05-12T13:14:53.106592Z",
     "iopub.status.busy": "2024-05-12T13:14:53.106170Z",
     "iopub.status.idle": "2024-05-12T13:14:53.212514Z",
     "shell.execute_reply": "2024-05-12T13:14:53.211352Z"
    },
    "papermill": {
     "duration": 0.11594,
     "end_time": "2024-05-12T13:14:53.214851",
     "exception": false,
     "start_time": "2024-05-12T13:14:53.098911",
     "status": "completed"
    },
    "tags": []
   },
   "outputs": [
    {
     "name": "stdout",
     "output_type": "stream",
     "text": [
      "         userId  rating   timestamp\n",
      "movieId                            \n",
      "858        4354     5.0  1447114736\n",
      "55820      4354     5.0  1447116379\n",
      "68157      4354     5.0  1447116452\n",
      "112552     4354     5.0  1447115621\n",
      "122882     4354     5.0  1447114229\n"
     ]
    }
   ],
   "source": [
    "df_4354 = df2[(df2['userId'] == 4354) & (df2['rating'] == 5)]\n",
    "df_4354 = df_4354.set_index('movieId') \n",
    "print(df_4354)"
   ]
  },
  {
   "cell_type": "markdown",
   "id": "e08ff586",
   "metadata": {
    "papermill": {
     "duration": 0.006052,
     "end_time": "2024-05-12T13:14:53.227744",
     "exception": false,
     "start_time": "2024-05-12T13:14:53.221692",
     "status": "completed"
    },
    "tags": []
   },
   "source": [
    "### The ratings.csv dataset is too large and is computationally heavy to execute. I have a clear understanding of the collaborative filtering based recommendation system using the ratings data.\n",
    "### Here are the required steps to achieve this\n",
    "- Preprocess the ratings.csv dataset\n",
    "- For Librecommender, use SVD algorithm to train the model\n",
    "- For Surprise, use SVD or KNN algorithm to train the model\n",
    "- May fine tune the model using cross validation\n",
    "- Use the predict method to predict ratings for user-item pairs\n",
    "- Sort the recommendations according to descending order of predicted ratings and print the top 10 recommendations"
   ]
  }
 ],
 "metadata": {
  "kaggle": {
   "accelerator": "none",
   "dataSources": [
    {
     "datasetId": 4978470,
     "sourceId": 8373678,
     "sourceType": "datasetVersion"
    },
    {
     "datasetId": 4983276,
     "sourceId": 8380092,
     "sourceType": "datasetVersion"
    }
   ],
   "dockerImageVersionId": 30698,
   "isGpuEnabled": false,
   "isInternetEnabled": false,
   "language": "python",
   "sourceType": "notebook"
  },
  "kernelspec": {
   "display_name": "Python 3",
   "language": "python",
   "name": "python3"
  },
  "language_info": {
   "codemirror_mode": {
    "name": "ipython",
    "version": 3
   },
   "file_extension": ".py",
   "mimetype": "text/x-python",
   "name": "python",
   "nbconvert_exporter": "python",
   "pygments_lexer": "ipython3",
   "version": "3.10.13"
  },
  "papermill": {
   "default_parameters": {},
   "duration": 68.795015,
   "end_time": "2024-05-12T13:14:54.758215",
   "environment_variables": {},
   "exception": null,
   "input_path": "__notebook__.ipynb",
   "output_path": "__notebook__.ipynb",
   "parameters": {},
   "start_time": "2024-05-12T13:13:45.963200",
   "version": "2.5.0"
  }
 },
 "nbformat": 4,
 "nbformat_minor": 5
}
