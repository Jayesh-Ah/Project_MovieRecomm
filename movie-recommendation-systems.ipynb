{
 "cells": [
  {
   "cell_type": "code",
   "execution_count": 1,
   "id": "0c74f816",
   "metadata": {
    "_cell_guid": "b1076dfc-b9ad-4769-8c92-a6c4dae69d19",
    "_uuid": "8f2839f25d086af736a60e9eeb907d3b93b6e0e5",
    "execution": {
     "iopub.execute_input": "2024-05-12T13:18:26.829726Z",
     "iopub.status.busy": "2024-05-12T13:18:26.829263Z",
     "iopub.status.idle": "2024-05-12T13:18:27.822315Z",
     "shell.execute_reply": "2024-05-12T13:18:27.821001Z"
    },
    "papermill": {
     "duration": 1.00582,
     "end_time": "2024-05-12T13:18:27.825443",
     "exception": false,
     "start_time": "2024-05-12T13:18:26.819623",
     "status": "completed"
    },
    "tags": []
   },
   "outputs": [
    {
     "name": "stdout",
     "output_type": "stream",
     "text": [
      "/kaggle/input/movies/movies.csv\n",
      "/kaggle/input/ratings/ratings.csv\n"
     ]
    }
   ],
   "source": [
    "# This Python 3 environment comes with many helpful analytics libraries installed\n",
    "# It is defined by the kaggle/python Docker image: https://github.com/kaggle/docker-python\n",
    "# For example, here's several helpful packages to load\n",
    "\n",
    "import numpy as np # linear algebra\n",
    "import pandas as pd # data processing, CSV file I/O (e.g. pd.read_csv)\n",
    "\n",
    "# Input data files are available in the read-only \"../input/\" directory\n",
    "# For example, running this (by clicking run or pressing Shift+Enter) will list all files under the input directory\n",
    "\n",
    "import os\n",
    "for dirname, _, filenames in os.walk('/kaggle/input'):\n",
    "    for filename in filenames:\n",
    "        print(os.path.join(dirname, filename))\n",
    "\n",
    "# You can write up to 20GB to the current directory (/kaggle/working/) that gets preserved as output when you create a version using \"Save & Run All\" \n",
    "# You can also write temporary files to /kaggle/temp/, but they won't be saved outside of the current session"
   ]
  },
  {
   "cell_type": "markdown",
   "id": "9f285da0",
   "metadata": {
    "papermill": {
     "duration": 0.007159,
     "end_time": "2024-05-12T13:18:27.840585",
     "exception": false,
     "start_time": "2024-05-12T13:18:27.833426",
     "status": "completed"
    },
    "tags": []
   },
   "source": [
    "## Importing Libraries"
   ]
  },
  {
   "cell_type": "code",
   "execution_count": 2,
   "id": "f7e4969d",
   "metadata": {
    "execution": {
     "iopub.execute_input": "2024-05-12T13:18:27.856987Z",
     "iopub.status.busy": "2024-05-12T13:18:27.856417Z",
     "iopub.status.idle": "2024-05-12T13:18:29.726989Z",
     "shell.execute_reply": "2024-05-12T13:18:29.725884Z"
    },
    "papermill": {
     "duration": 1.882039,
     "end_time": "2024-05-12T13:18:29.729889",
     "exception": false,
     "start_time": "2024-05-12T13:18:27.847850",
     "status": "completed"
    },
    "tags": []
   },
   "outputs": [],
   "source": [
    "import numpy as np\n",
    "import pandas as pd\n",
    "import seaborn as sns\n",
    "import sklearn\n",
    "import matplotlib.pyplot as plot\n",
    "from sklearn.model_selection import train_test_split\n",
    "from sklearn.feature_extraction.text import TfidfVectorizer\n",
    "from sklearn.metrics.pairwise import cosine_similarity"
   ]
  },
  {
   "cell_type": "markdown",
   "id": "d6262919",
   "metadata": {
    "papermill": {
     "duration": 0.00726,
     "end_time": "2024-05-12T13:18:29.744958",
     "exception": false,
     "start_time": "2024-05-12T13:18:29.737698",
     "status": "completed"
    },
    "tags": []
   },
   "source": [
    "## movies.csv Dataset"
   ]
  },
  {
   "cell_type": "code",
   "execution_count": 3,
   "id": "980ecd6c",
   "metadata": {
    "execution": {
     "iopub.execute_input": "2024-05-12T13:18:29.762097Z",
     "iopub.status.busy": "2024-05-12T13:18:29.761661Z",
     "iopub.status.idle": "2024-05-12T13:18:29.944775Z",
     "shell.execute_reply": "2024-05-12T13:18:29.943581Z"
    },
    "papermill": {
     "duration": 0.194898,
     "end_time": "2024-05-12T13:18:29.947422",
     "exception": false,
     "start_time": "2024-05-12T13:18:29.752524",
     "status": "completed"
    },
    "tags": []
   },
   "outputs": [
    {
     "data": {
      "text/html": [
       "<div>\n",
       "<style scoped>\n",
       "    .dataframe tbody tr th:only-of-type {\n",
       "        vertical-align: middle;\n",
       "    }\n",
       "\n",
       "    .dataframe tbody tr th {\n",
       "        vertical-align: top;\n",
       "    }\n",
       "\n",
       "    .dataframe thead th {\n",
       "        text-align: right;\n",
       "    }\n",
       "</style>\n",
       "<table border=\"1\" class=\"dataframe\">\n",
       "  <thead>\n",
       "    <tr style=\"text-align: right;\">\n",
       "      <th></th>\n",
       "      <th>movieId</th>\n",
       "      <th>title</th>\n",
       "      <th>genres</th>\n",
       "    </tr>\n",
       "  </thead>\n",
       "  <tbody>\n",
       "    <tr>\n",
       "      <th>0</th>\n",
       "      <td>1</td>\n",
       "      <td>Toy Story (1995)</td>\n",
       "      <td>Adventure|Animation|Children|Comedy|Fantasy</td>\n",
       "    </tr>\n",
       "    <tr>\n",
       "      <th>1</th>\n",
       "      <td>2</td>\n",
       "      <td>Jumanji (1995)</td>\n",
       "      <td>Adventure|Children|Fantasy</td>\n",
       "    </tr>\n",
       "    <tr>\n",
       "      <th>2</th>\n",
       "      <td>3</td>\n",
       "      <td>Grumpier Old Men (1995)</td>\n",
       "      <td>Comedy|Romance</td>\n",
       "    </tr>\n",
       "    <tr>\n",
       "      <th>3</th>\n",
       "      <td>4</td>\n",
       "      <td>Waiting to Exhale (1995)</td>\n",
       "      <td>Comedy|Drama|Romance</td>\n",
       "    </tr>\n",
       "    <tr>\n",
       "      <th>4</th>\n",
       "      <td>5</td>\n",
       "      <td>Father of the Bride Part II (1995)</td>\n",
       "      <td>Comedy</td>\n",
       "    </tr>\n",
       "  </tbody>\n",
       "</table>\n",
       "</div>"
      ],
      "text/plain": [
       "   movieId                               title  \\\n",
       "0        1                    Toy Story (1995)   \n",
       "1        2                      Jumanji (1995)   \n",
       "2        3             Grumpier Old Men (1995)   \n",
       "3        4            Waiting to Exhale (1995)   \n",
       "4        5  Father of the Bride Part II (1995)   \n",
       "\n",
       "                                        genres  \n",
       "0  Adventure|Animation|Children|Comedy|Fantasy  \n",
       "1                   Adventure|Children|Fantasy  \n",
       "2                               Comedy|Romance  \n",
       "3                         Comedy|Drama|Romance  \n",
       "4                                       Comedy  "
      ]
     },
     "execution_count": 3,
     "metadata": {},
     "output_type": "execute_result"
    }
   ],
   "source": [
    "df = pd.read_csv(\"/kaggle/input/movies/movies.csv\")\n",
    "df.head()"
   ]
  },
  {
   "cell_type": "code",
   "execution_count": 4,
   "id": "d842e9bb",
   "metadata": {
    "execution": {
     "iopub.execute_input": "2024-05-12T13:18:29.964571Z",
     "iopub.status.busy": "2024-05-12T13:18:29.964151Z",
     "iopub.status.idle": "2024-05-12T13:18:30.004868Z",
     "shell.execute_reply": "2024-05-12T13:18:30.003545Z"
    },
    "papermill": {
     "duration": 0.052503,
     "end_time": "2024-05-12T13:18:30.007763",
     "exception": false,
     "start_time": "2024-05-12T13:18:29.955260",
     "status": "completed"
    },
    "tags": []
   },
   "outputs": [
    {
     "name": "stdout",
     "output_type": "stream",
     "text": [
      "<class 'pandas.core.frame.DataFrame'>\n",
      "RangeIndex: 62423 entries, 0 to 62422\n",
      "Data columns (total 3 columns):\n",
      " #   Column   Non-Null Count  Dtype \n",
      "---  ------   --------------  ----- \n",
      " 0   movieId  62423 non-null  int64 \n",
      " 1   title    62423 non-null  object\n",
      " 2   genres   62423 non-null  object\n",
      "dtypes: int64(1), object(2)\n",
      "memory usage: 1.4+ MB\n"
     ]
    }
   ],
   "source": [
    "df.info()        # for datatype of the columns in the dataset"
   ]
  },
  {
   "cell_type": "code",
   "execution_count": 5,
   "id": "4b93d542",
   "metadata": {
    "execution": {
     "iopub.execute_input": "2024-05-12T13:18:30.025568Z",
     "iopub.status.busy": "2024-05-12T13:18:30.025151Z",
     "iopub.status.idle": "2024-05-12T13:18:30.047786Z",
     "shell.execute_reply": "2024-05-12T13:18:30.046703Z"
    },
    "papermill": {
     "duration": 0.03448,
     "end_time": "2024-05-12T13:18:30.050139",
     "exception": false,
     "start_time": "2024-05-12T13:18:30.015659",
     "status": "completed"
    },
    "tags": []
   },
   "outputs": [
    {
     "data": {
      "text/plain": [
       "movieId    0\n",
       "title      0\n",
       "genres     0\n",
       "dtype: int64"
      ]
     },
     "execution_count": 5,
     "metadata": {},
     "output_type": "execute_result"
    }
   ],
   "source": [
    "df.isnull().sum()     #Finding number of null values in the dataset "
   ]
  },
  {
   "cell_type": "markdown",
   "id": "942b18ee",
   "metadata": {
    "papermill": {
     "duration": 0.007623,
     "end_time": "2024-05-12T13:18:30.065698",
     "exception": false,
     "start_time": "2024-05-12T13:18:30.058075",
     "status": "completed"
    },
    "tags": []
   },
   "source": [
    "## Data Preprocessing"
   ]
  },
  {
   "cell_type": "code",
   "execution_count": 6,
   "id": "3d0a54ce",
   "metadata": {
    "execution": {
     "iopub.execute_input": "2024-05-12T13:18:30.083257Z",
     "iopub.status.busy": "2024-05-12T13:18:30.082814Z",
     "iopub.status.idle": "2024-05-12T13:18:30.119809Z",
     "shell.execute_reply": "2024-05-12T13:18:30.118462Z"
    },
    "papermill": {
     "duration": 0.049281,
     "end_time": "2024-05-12T13:18:30.122821",
     "exception": false,
     "start_time": "2024-05-12T13:18:30.073540",
     "status": "completed"
    },
    "tags": []
   },
   "outputs": [],
   "source": [
    "# Find titles with \"(no genres listed)\"\n",
    "no_genres_titles = df[df['genres'] == '(no genres listed)']['title']\n",
    "\n",
    "# Remove rows with \"(no genres listed)\"\n",
    "movies_df = df[~df['title'].isin(no_genres_titles)]"
   ]
  },
  {
   "cell_type": "code",
   "execution_count": 7,
   "id": "b9cea161",
   "metadata": {
    "execution": {
     "iopub.execute_input": "2024-05-12T13:18:30.141781Z",
     "iopub.status.busy": "2024-05-12T13:18:30.141340Z",
     "iopub.status.idle": "2024-05-12T13:18:30.158670Z",
     "shell.execute_reply": "2024-05-12T13:18:30.157429Z"
    },
    "papermill": {
     "duration": 0.029592,
     "end_time": "2024-05-12T13:18:30.161611",
     "exception": false,
     "start_time": "2024-05-12T13:18:30.132019",
     "status": "completed"
    },
    "tags": []
   },
   "outputs": [],
   "source": [
    "train_data, test_data = train_test_split(movies_df, test_size=0.2, random_state=44)"
   ]
  },
  {
   "cell_type": "code",
   "execution_count": 8,
   "id": "98cebc6c",
   "metadata": {
    "execution": {
     "iopub.execute_input": "2024-05-12T13:18:30.179104Z",
     "iopub.status.busy": "2024-05-12T13:18:30.178689Z",
     "iopub.status.idle": "2024-05-12T13:18:30.186871Z",
     "shell.execute_reply": "2024-05-12T13:18:30.185793Z"
    },
    "papermill": {
     "duration": 0.02105,
     "end_time": "2024-05-12T13:18:30.190611",
     "exception": false,
     "start_time": "2024-05-12T13:18:30.169561",
     "status": "completed"
    },
    "tags": []
   },
   "outputs": [
    {
     "name": "stdout",
     "output_type": "stream",
     "text": [
      "       movieId                                           title  \\\n",
      "8394     25846                         Dawn Patrol, The (1938)   \n",
      "43262   165633                             A Long Story (2012)   \n",
      "3688      3789                          Pawnbroker, The (1964)   \n",
      "50248   180589  Leaning Into the Wind: Andy Goldsworthy (2017)   \n",
      "27329   128876                      Saban, Son of Saban (1977)   \n",
      "...        ...                                             ...   \n",
      "57712   196987                        Far from the Tree (2017)   \n",
      "53934   188445                      My Little Sweet Pea (2013)   \n",
      "25949   124865                    Loitering with Intent (2014)   \n",
      "3491      3590                   Lords of Flatbush, The (1974)   \n",
      "14101    72995                             Offence, The (1972)   \n",
      "\n",
      "                     genres  \n",
      "8394              Drama|War  \n",
      "43262                 Drama  \n",
      "3688                  Drama  \n",
      "50248           Documentary  \n",
      "27329  Comedy|Crime|Mystery  \n",
      "...                     ...  \n",
      "57712           Documentary  \n",
      "53934          Comedy|Drama  \n",
      "25949          Comedy|Drama  \n",
      "3491           Comedy|Drama  \n",
      "14101   Crime|Drama|Mystery  \n",
      "\n",
      "[45876 rows x 3 columns]\n"
     ]
    }
   ],
   "source": [
    "print(train_data)"
   ]
  },
  {
   "cell_type": "code",
   "execution_count": 9,
   "id": "2838e994",
   "metadata": {
    "execution": {
     "iopub.execute_input": "2024-05-12T13:18:30.208992Z",
     "iopub.status.busy": "2024-05-12T13:18:30.208187Z",
     "iopub.status.idle": "2024-05-12T13:18:30.217018Z",
     "shell.execute_reply": "2024-05-12T13:18:30.215834Z"
    },
    "papermill": {
     "duration": 0.021776,
     "end_time": "2024-05-12T13:18:30.220558",
     "exception": false,
     "start_time": "2024-05-12T13:18:30.198782",
     "status": "completed"
    },
    "tags": []
   },
   "outputs": [
    {
     "name": "stdout",
     "output_type": "stream",
     "text": [
      "       movieId                          title                          genres\n",
      "4642      4748                3 Ninjas (1992)          Action|Children|Comedy\n",
      "56218   193683              Alien Code (2017)         Mystery|Sci-Fi|Thriller\n",
      "51098   182409              Ecce bombo (1978)                    Comedy|Drama\n",
      "45662   170849  In Memory of My Father (2005)                    Comedy|Drama\n",
      "3180      3273                Scream 3 (2000)  Comedy|Horror|Mystery|Thriller\n",
      "...        ...                            ...                             ...\n",
      "5486      5596         Spaced Invaders (1990)         Adventure|Comedy|Sci-Fi\n",
      "3920      4024     House of Mirth, The (2000)                         Romance\n",
      "1491      1546             Schizopolis (1996)                          Comedy\n",
      "13413    69304            Imagine That (2009)            Comedy|Drama|Fantasy\n",
      "5716      5828               Blackrock (1997)                  Drama|Thriller\n",
      "\n",
      "[11470 rows x 3 columns]\n"
     ]
    }
   ],
   "source": [
    "print(test_data)"
   ]
  },
  {
   "cell_type": "markdown",
   "id": "2c9012f2",
   "metadata": {
    "papermill": {
     "duration": 0.00786,
     "end_time": "2024-05-12T13:18:30.237000",
     "exception": false,
     "start_time": "2024-05-12T13:18:30.229140",
     "status": "completed"
    },
    "tags": []
   },
   "source": [
    "## "
   ]
  },
  {
   "cell_type": "markdown",
   "id": "73949e46",
   "metadata": {
    "papermill": {
     "duration": 0.007759,
     "end_time": "2024-05-12T13:18:30.252954",
     "exception": false,
     "start_time": "2024-05-12T13:18:30.245195",
     "status": "completed"
    },
    "tags": []
   },
   "source": [
    "## Fit and Transform TfIdfVectorizer"
   ]
  },
  {
   "cell_type": "code",
   "execution_count": 10,
   "id": "6fd63e17",
   "metadata": {
    "execution": {
     "iopub.execute_input": "2024-05-12T13:18:30.271460Z",
     "iopub.status.busy": "2024-05-12T13:18:30.270499Z",
     "iopub.status.idle": "2024-05-12T13:18:30.755967Z",
     "shell.execute_reply": "2024-05-12T13:18:30.754764Z"
    },
    "papermill": {
     "duration": 0.497658,
     "end_time": "2024-05-12T13:18:30.758648",
     "exception": false,
     "start_time": "2024-05-12T13:18:30.260990",
     "status": "completed"
    },
    "tags": []
   },
   "outputs": [
    {
     "data": {
      "text/plain": [
       "(45876, 21)"
      ]
     },
     "execution_count": 10,
     "metadata": {},
     "output_type": "execute_result"
    }
   ],
   "source": [
    "tfidf_vectorizer = TfidfVectorizer(stop_words='english')\n",
    "\n",
    "tfidf_train_matrix = tfidf_vectorizer.fit_transform(train_data['genres'].fillna(''))\n",
    "tfidf_test_matrix = tfidf_vectorizer.transform(test_data['genres'].fillna(''))\n",
    "tfidf_train_matrix.shape"
   ]
  },
  {
   "cell_type": "code",
   "execution_count": 11,
   "id": "49ee8276",
   "metadata": {
    "execution": {
     "iopub.execute_input": "2024-05-12T13:18:30.777973Z",
     "iopub.status.busy": "2024-05-12T13:18:30.777197Z",
     "iopub.status.idle": "2024-05-12T13:19:15.448566Z",
     "shell.execute_reply": "2024-05-12T13:19:15.447392Z"
    },
    "papermill": {
     "duration": 44.684363,
     "end_time": "2024-05-12T13:19:15.451498",
     "exception": false,
     "start_time": "2024-05-12T13:18:30.767135",
     "status": "completed"
    },
    "tags": []
   },
   "outputs": [],
   "source": [
    "from sklearn.metrics.pairwise import linear_kernel\n",
    "\n",
    "cosine_sim = linear_kernel(tfidf_train_matrix, tfidf_train_matrix)"
   ]
  },
  {
   "cell_type": "code",
   "execution_count": 12,
   "id": "551e725c",
   "metadata": {
    "execution": {
     "iopub.execute_input": "2024-05-12T13:19:15.470277Z",
     "iopub.status.busy": "2024-05-12T13:19:15.469903Z",
     "iopub.status.idle": "2024-05-12T13:19:15.691690Z",
     "shell.execute_reply": "2024-05-12T13:19:15.690280Z"
    },
    "papermill": {
     "duration": 0.234588,
     "end_time": "2024-05-12T13:19:15.694494",
     "exception": false,
     "start_time": "2024-05-12T13:19:15.459906",
     "status": "completed"
    },
    "tags": []
   },
   "outputs": [
    {
     "name": "stdout",
     "output_type": "stream",
     "text": [
      "Recommended movies:\n",
      "Silences of the Palace, The (Saimt el Qusur) (1994)\n",
      "Misérables, Les (1995)\n",
      "Aanmodderfakker (2014)\n",
      "Don't Be a Menace to South Central While Drinking Your Juice in the Hood (1996)\n",
      "Broken Arrow (1996)\n",
      "Meet Me There (2014)\n",
      "Cheech and Chong's Up in Smoke (1978)\n",
      "Eye for an Eye (1996)\n",
      "Emerald Forest, The (1985)\n",
      "Richard III (1995)\n"
     ]
    }
   ],
   "source": [
    "user_movie_ids = [858, 55820, 68157, 112552, 122882]          # movies liked by a specific                                                                            user (used as a ground dataset to find                                                                  the cosine similarities)\n",
    "recommendations = []\n",
    "\n",
    "for movie_id in user_movie_ids:\n",
    "    idx = movies_df[movies_df['movieId'] == movie_id].index[0]      # specifying index values for all                                                                     selected movies of the specific user\n",
    "    sim_scores = list(enumerate(cosine_sim[idx]))\n",
    "    sim_scores = sorted(sim_scores, key=lambda x: x[1], reverse=True)\n",
    "    sim_scores = sim_scores[1:11]                                  # Exclude the movie itself\n",
    "    movie_indices = [i[0] for i in sim_scores]\n",
    "    recommendations.extend(movies_df.iloc[movie_indices]['title'].tolist())\n",
    "\n",
    "# Remove duplicate recommendations\n",
    "recommendations = list(set(recommendations))\n",
    "\n",
    "# Print recommendations\n",
    "print(\"Recommended movies:\")\n",
    "for movie in recommendations[:10]:\n",
    "    print(movie)"
   ]
  },
  {
   "cell_type": "code",
   "execution_count": null,
   "id": "58c4ef1f",
   "metadata": {
    "papermill": {
     "duration": 0.008077,
     "end_time": "2024-05-12T13:19:15.711011",
     "exception": false,
     "start_time": "2024-05-12T13:19:15.702934",
     "status": "completed"
    },
    "tags": []
   },
   "outputs": [],
   "source": []
  },
  {
   "cell_type": "markdown",
   "id": "f534a610",
   "metadata": {
    "papermill": {
     "duration": 0.008259,
     "end_time": "2024-05-12T13:19:15.727732",
     "exception": false,
     "start_time": "2024-05-12T13:19:15.719473",
     "status": "completed"
    },
    "tags": []
   },
   "source": [
    "## ratings.csv Datset"
   ]
  },
  {
   "cell_type": "code",
   "execution_count": 13,
   "id": "3d55b9e5",
   "metadata": {
    "execution": {
     "iopub.execute_input": "2024-05-12T13:19:15.746656Z",
     "iopub.status.busy": "2024-05-12T13:19:15.746214Z",
     "iopub.status.idle": "2024-05-12T13:19:37.661715Z",
     "shell.execute_reply": "2024-05-12T13:19:37.660260Z"
    },
    "papermill": {
     "duration": 21.927849,
     "end_time": "2024-05-12T13:19:37.664300",
     "exception": false,
     "start_time": "2024-05-12T13:19:15.736451",
     "status": "completed"
    },
    "tags": []
   },
   "outputs": [
    {
     "data": {
      "text/html": [
       "<div>\n",
       "<style scoped>\n",
       "    .dataframe tbody tr th:only-of-type {\n",
       "        vertical-align: middle;\n",
       "    }\n",
       "\n",
       "    .dataframe tbody tr th {\n",
       "        vertical-align: top;\n",
       "    }\n",
       "\n",
       "    .dataframe thead th {\n",
       "        text-align: right;\n",
       "    }\n",
       "</style>\n",
       "<table border=\"1\" class=\"dataframe\">\n",
       "  <thead>\n",
       "    <tr style=\"text-align: right;\">\n",
       "      <th></th>\n",
       "      <th>userId</th>\n",
       "      <th>movieId</th>\n",
       "      <th>rating</th>\n",
       "      <th>timestamp</th>\n",
       "    </tr>\n",
       "  </thead>\n",
       "  <tbody>\n",
       "    <tr>\n",
       "      <th>0</th>\n",
       "      <td>1</td>\n",
       "      <td>296</td>\n",
       "      <td>5.0</td>\n",
       "      <td>1147880044</td>\n",
       "    </tr>\n",
       "    <tr>\n",
       "      <th>1</th>\n",
       "      <td>1</td>\n",
       "      <td>306</td>\n",
       "      <td>3.5</td>\n",
       "      <td>1147868817</td>\n",
       "    </tr>\n",
       "    <tr>\n",
       "      <th>2</th>\n",
       "      <td>1</td>\n",
       "      <td>307</td>\n",
       "      <td>5.0</td>\n",
       "      <td>1147868828</td>\n",
       "    </tr>\n",
       "    <tr>\n",
       "      <th>3</th>\n",
       "      <td>1</td>\n",
       "      <td>665</td>\n",
       "      <td>5.0</td>\n",
       "      <td>1147878820</td>\n",
       "    </tr>\n",
       "    <tr>\n",
       "      <th>4</th>\n",
       "      <td>1</td>\n",
       "      <td>899</td>\n",
       "      <td>3.5</td>\n",
       "      <td>1147868510</td>\n",
       "    </tr>\n",
       "  </tbody>\n",
       "</table>\n",
       "</div>"
      ],
      "text/plain": [
       "   userId  movieId  rating   timestamp\n",
       "0       1      296     5.0  1147880044\n",
       "1       1      306     3.5  1147868817\n",
       "2       1      307     5.0  1147868828\n",
       "3       1      665     5.0  1147878820\n",
       "4       1      899     3.5  1147868510"
      ]
     },
     "execution_count": 13,
     "metadata": {},
     "output_type": "execute_result"
    }
   ],
   "source": [
    "df2 = pd.read_csv(\"/kaggle/input/ratings/ratings.csv\")\n",
    "df2.head()"
   ]
  },
  {
   "cell_type": "code",
   "execution_count": 14,
   "id": "69beb4aa",
   "metadata": {
    "execution": {
     "iopub.execute_input": "2024-05-12T13:19:37.684261Z",
     "iopub.status.busy": "2024-05-12T13:19:37.683235Z",
     "iopub.status.idle": "2024-05-12T13:19:37.791013Z",
     "shell.execute_reply": "2024-05-12T13:19:37.789659Z"
    },
    "papermill": {
     "duration": 0.120864,
     "end_time": "2024-05-12T13:19:37.793967",
     "exception": false,
     "start_time": "2024-05-12T13:19:37.673103",
     "status": "completed"
    },
    "tags": []
   },
   "outputs": [
    {
     "name": "stdout",
     "output_type": "stream",
     "text": [
      "         userId  rating   timestamp\n",
      "movieId                            \n",
      "858        4354     5.0  1447114736\n",
      "55820      4354     5.0  1447116379\n",
      "68157      4354     5.0  1447116452\n",
      "112552     4354     5.0  1447115621\n",
      "122882     4354     5.0  1447114229\n"
     ]
    }
   ],
   "source": [
    "df_4354 = df2[(df2['userId'] == 4354) & (df2['rating'] == 5)]\n",
    "df_4354 = df_4354.set_index('movieId') \n",
    "print(df_4354)"
   ]
  },
  {
   "cell_type": "markdown",
   "id": "a54837af",
   "metadata": {
    "papermill": {
     "duration": 0.008628,
     "end_time": "2024-05-12T13:19:37.811423",
     "exception": false,
     "start_time": "2024-05-12T13:19:37.802795",
     "status": "completed"
    },
    "tags": []
   },
   "source": [
    "### The ratings.csv dataset is too large and is computationally heavy to execute. I have a clear understanding of the collaborative filtering based recommendation system using the ratings data.\n",
    "### Here are the required steps to achieve this\n",
    "- Preprocess the ratings.csv dataset\n",
    "- For Librecommender, use SVD algorithm to train the model\n",
    "- For Surprise, use SVD or KNN algorithm to train the model\n",
    "- May fine tune the model using cross validation\n",
    "- Use the predict method to predict ratings for user-item pairs\n",
    "- Sort the recommendations according to descending order of predicted ratings and print the top 10 recommendations"
   ]
  }
 ],
 "metadata": {
  "kaggle": {
   "accelerator": "none",
   "dataSources": [
    {
     "datasetId": 4978470,
     "sourceId": 8373678,
     "sourceType": "datasetVersion"
    },
    {
     "datasetId": 4983276,
     "sourceId": 8380092,
     "sourceType": "datasetVersion"
    }
   ],
   "dockerImageVersionId": 30698,
   "isGpuEnabled": false,
   "isInternetEnabled": false,
   "language": "python",
   "sourceType": "notebook"
  },
  "kernelspec": {
   "display_name": "Python 3",
   "language": "python",
   "name": "python3"
  },
  "language_info": {
   "codemirror_mode": {
    "name": "ipython",
    "version": 3
   },
   "file_extension": ".py",
   "mimetype": "text/x-python",
   "name": "python",
   "nbconvert_exporter": "python",
   "pygments_lexer": "ipython3",
   "version": "3.10.13"
  },
  "papermill": {
   "default_parameters": {},
   "duration": 76.03144,
   "end_time": "2024-05-12T13:19:39.647876",
   "environment_variables": {},
   "exception": null,
   "input_path": "__notebook__.ipynb",
   "output_path": "__notebook__.ipynb",
   "parameters": {},
   "start_time": "2024-05-12T13:18:23.616436",
   "version": "2.5.0"
  }
 },
 "nbformat": 4,
 "nbformat_minor": 5
}
